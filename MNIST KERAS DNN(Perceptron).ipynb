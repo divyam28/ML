{
 "cells": [
  {
   "cell_type": "code",
   "execution_count": 1,
   "metadata": {},
   "outputs": [
    {
     "name": "stderr",
     "output_type": "stream",
     "text": [
      "Using TensorFlow backend.\n"
     ]
    }
   ],
   "source": [
    "import numpy as np #matrix multi\n",
    "from keras.datasets import mnist #dataset\n",
    "from keras.models import Sequential #type of model\n",
    "from keras.layers import Dense #a type of layer which is used in normal perceptron (a set of neurons)\n",
    "from keras.layers import Dropout #type of layer\n",
    "from keras.utils import np_utils #keras helper library"
   ]
  },
  {
   "cell_type": "code",
   "execution_count": 2,
   "metadata": {
    "collapsed": true
   },
   "outputs": [],
   "source": [
    "seed=2\n",
    "np.random.seed(seed)\n",
    "#to get same result everytime"
   ]
  },
  {
   "cell_type": "code",
   "execution_count": 3,
   "metadata": {
    "collapsed": true
   },
   "outputs": [],
   "source": [
    "(X_train, y_train), (X_test, y_test) = mnist.load_data() #loading data"
   ]
  },
  {
   "cell_type": "code",
   "execution_count": 4,
   "metadata": {
    "collapsed": true
   },
   "outputs": [],
   "source": [
    "# flatten 28*28 images to a 784 vector for each image\n",
    "numpix = X_train.shape[1] * X_train.shape[2]\n",
    "X_train = X_train.reshape(X_train.shape[0], numpix).astype('float32')  #here X_train.shape[1] is 784 \n",
    "                                                                                #and X_train.shape[0] is 60000\n",
    "X_test = X_test.reshape(X_test.shape[0], numpix).astype('float32')"
   ]
  },
  {
   "cell_type": "code",
   "execution_count": 5,
   "metadata": {
    "collapsed": true
   },
   "outputs": [],
   "source": [
    "X_train=X_train/255\n",
    "X_test=X_test/255\n",
    "#scaling"
   ]
  },
  {
   "cell_type": "code",
   "execution_count": 6,
   "metadata": {},
   "outputs": [
    {
     "data": {
      "text/plain": [
       "array([5, 0, 4, ..., 5, 6, 8], dtype=uint8)"
      ]
     },
     "execution_count": 6,
     "metadata": {},
     "output_type": "execute_result"
    }
   ],
   "source": [
    "#previous y_train\n",
    "y_train"
   ]
  },
  {
   "cell_type": "code",
   "execution_count": 7,
   "metadata": {
    "collapsed": true
   },
   "outputs": [],
   "source": [
    "# one hot encode outputs\n",
    "y_train = np_utils.to_categorical(y_train)\n",
    "y_test = np_utils.to_categorical(y_test)\n",
    "num_classes = y_test.shape[1]"
   ]
  },
  {
   "cell_type": "code",
   "execution_count": 8,
   "metadata": {},
   "outputs": [
    {
     "data": {
      "text/plain": [
       "array([[ 0.,  0.,  0., ...,  0.,  0.,  0.],\n",
       "       [ 1.,  0.,  0., ...,  0.,  0.,  0.],\n",
       "       [ 0.,  0.,  0., ...,  0.,  0.,  0.],\n",
       "       ..., \n",
       "       [ 0.,  0.,  0., ...,  0.,  0.,  0.],\n",
       "       [ 0.,  0.,  0., ...,  0.,  0.,  0.],\n",
       "       [ 0.,  0.,  0., ...,  0.,  1.,  0.]])"
      ]
     },
     "execution_count": 8,
     "metadata": {},
     "output_type": "execute_result"
    }
   ],
   "source": [
    "#new y train\n",
    "y_train       #for ever element in this array there are 10 elements in which only one is 1 and rest are 0\n",
    "                # this is called one hot encoding"
   ]
  },
  {
   "cell_type": "code",
   "execution_count": 9,
   "metadata": {
    "collapsed": true
   },
   "outputs": [],
   "source": [
    "#now we define the whole model\n",
    "def dnnmodel():\n",
    "    model = Sequential()\n",
    "    model.add(Dense(numpix, input_dim=numpix, kernel_initializer='normal',use_bias=True,activation='relu'))\n",
    "    #this means 784 inputs to a hidden layer having 784 neurons with relu activation in all of them\n",
    "    model.add(Dense(num_classes, kernel_initializer='normal',activation='softmax',use_bias=True))\n",
    "    #this means 10 outputs having softmax activation which means it will give probability output for all 10 classes\n",
    "    \n",
    "    model.compile(loss='categorical_crossentropy',optimizer='adam',metrics=['accuracy'])\n",
    "    '''\n",
    "    Loss here means during backpropogation, when we need to find difference between the predicted and the actual value we\n",
    "    need a loss function. Here that loss function is called catergorical_crossentropy\n",
    "    \n",
    "    Optimizer is what we will need to minimize that loss. Here we use adam optimizer\n",
    "    \n",
    "    Then we need the accuracy as a metric\n",
    "    '''\n",
    "    return model\n",
    "              "
   ]
  },
  {
   "cell_type": "code",
   "execution_count": 11,
   "metadata": {},
   "outputs": [
    {
     "name": "stdout",
     "output_type": "stream",
     "text": [
      "Train on 60000 samples, validate on 10000 samples\n",
      "Epoch 1/10\n",
      " - 8s - loss: 0.2776 - acc: 0.9207 - val_loss: 0.1370 - val_acc: 0.9616\n",
      "Epoch 2/10\n",
      " - 7s - loss: 0.1096 - acc: 0.9680 - val_loss: 0.0963 - val_acc: 0.9699\n",
      "Epoch 3/10\n",
      " - 8s - loss: 0.0712 - acc: 0.9800 - val_loss: 0.0719 - val_acc: 0.9773\n",
      "Epoch 4/10\n",
      " - 7s - loss: 0.0483 - acc: 0.9862 - val_loss: 0.0741 - val_acc: 0.9775\n",
      "Epoch 5/10\n",
      " - 8s - loss: 0.0359 - acc: 0.9902 - val_loss: 0.0652 - val_acc: 0.9795\n",
      "Epoch 6/10\n",
      " - 7s - loss: 0.0261 - acc: 0.9933 - val_loss: 0.0688 - val_acc: 0.9784\n",
      "Epoch 7/10\n",
      " - 7s - loss: 0.0193 - acc: 0.9952 - val_loss: 0.0629 - val_acc: 0.9798\n",
      "Epoch 8/10\n",
      " - 7s - loss: 0.0138 - acc: 0.9969 - val_loss: 0.0633 - val_acc: 0.9812\n",
      "Epoch 9/10\n",
      " - 7s - loss: 0.0107 - acc: 0.9977 - val_loss: 0.0585 - val_acc: 0.9817\n",
      "Epoch 10/10\n",
      " - 7s - loss: 0.0083 - acc: 0.9985 - val_loss: 0.0622 - val_acc: 0.9816\n",
      "Baseline Error: 1.84%\n"
     ]
    }
   ],
   "source": [
    "#build the model\n",
    "model = dnnmodel()\n",
    "#fit the model\n",
    "model.fit(X_train, y_train, validation_data=(X_test,y_test), epochs=10, batch_size=200, verbose=2)\n",
    "#now we train the data and we test it using our testing data for 10 epochs 200 images at a time\n",
    "#verbose=2 gives output in one line for every epoch\n",
    "\n",
    "scores=model.evaluate(X_test, y_test, verbose=0) #final evaluation\n",
    "print(\"Baseline Error: %.2f%%\" % (100-scores[1]*100))"
   ]
  },
  {
   "cell_type": "code",
   "execution_count": 15,
   "metadata": {},
   "outputs": [
    {
     "name": "stdout",
     "output_type": "stream",
     "text": [
      "Accuracy: 98.16%\n"
     ]
    }
   ],
   "source": [
    "print(\"Accuracy: %.2f%%\" % (scores[1]*100))"
   ]
  }
 ],
 "metadata": {
  "kernelspec": {
   "display_name": "Python 3",
   "language": "python",
   "name": "python3"
  },
  "language_info": {
   "codemirror_mode": {
    "name": "ipython",
    "version": 3
   },
   "file_extension": ".py",
   "mimetype": "text/x-python",
   "name": "python",
   "nbconvert_exporter": "python",
   "pygments_lexer": "ipython3",
   "version": "3.6.3"
  }
 },
 "nbformat": 4,
 "nbformat_minor": 2
}
